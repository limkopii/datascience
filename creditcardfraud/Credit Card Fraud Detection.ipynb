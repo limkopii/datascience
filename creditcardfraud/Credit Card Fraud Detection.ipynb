{
 "cells": [
  {
   "cell_type": "markdown",
   "metadata": {},
   "source": [
    "# Credit Card Fraud with Machine Learning\n",
    "\n",
    "The aim of this project is to build a classifier so that we can detect credit card fraudulent transaction. The dataset is obtained from: https://www.kaggle.com/mlg-ulb/creditcardfraud."
   ]
  },
  {
   "cell_type": "code",
   "execution_count": 102,
   "metadata": {},
   "outputs": [],
   "source": [
    "import os\n",
    "import sys\n",
    "import pandas\n",
    "import numpy as np\n",
    "import sklearn\n",
    "import seaborn as sns\n",
    "import matplotlib.pyplot as plt\n",
    "\n",
    "input_file = \"./creditcard.csv\""
   ]
  },
  {
   "cell_type": "markdown",
   "metadata": {},
   "source": [
    "# Data Exploration\n",
    "\n",
    "The dataset consists of credit card transactions that features (V1, V2... Vx) are the product of PCA analysis. The only features that are non-PCA are **Time, Amount, Class**.\n",
    "\n",
    "- Time: Seconds elapsed between each transaction and first transaction\n",
    "- Class: Type of transaction (1 is fraud, 0 is valid)\n",
    "- Amount: Transaction Amount\n",
    "\n",
    "The purpose of this section is to understand the data so that we know how to proceed to the next step."
   ]
  },
  {
   "cell_type": "code",
   "execution_count": 107,
   "metadata": {},
   "outputs": [],
   "source": [
    "df = pandas.read_csv(input_file, header=0)"
   ]
  },
  {
   "cell_type": "code",
   "execution_count": 7,
   "metadata": {},
   "outputs": [
    {
     "data": {
      "text/html": [
       "<div>\n",
       "<style scoped>\n",
       "    .dataframe tbody tr th:only-of-type {\n",
       "        vertical-align: middle;\n",
       "    }\n",
       "\n",
       "    .dataframe tbody tr th {\n",
       "        vertical-align: top;\n",
       "    }\n",
       "\n",
       "    .dataframe thead th {\n",
       "        text-align: right;\n",
       "    }\n",
       "</style>\n",
       "<table border=\"1\" class=\"dataframe\">\n",
       "  <thead>\n",
       "    <tr style=\"text-align: right;\">\n",
       "      <th></th>\n",
       "      <th>Time</th>\n",
       "      <th>V1</th>\n",
       "      <th>V2</th>\n",
       "      <th>V3</th>\n",
       "      <th>V4</th>\n",
       "      <th>V5</th>\n",
       "      <th>V6</th>\n",
       "      <th>V7</th>\n",
       "      <th>V8</th>\n",
       "      <th>V9</th>\n",
       "      <th>...</th>\n",
       "      <th>V21</th>\n",
       "      <th>V22</th>\n",
       "      <th>V23</th>\n",
       "      <th>V24</th>\n",
       "      <th>V25</th>\n",
       "      <th>V26</th>\n",
       "      <th>V27</th>\n",
       "      <th>V28</th>\n",
       "      <th>Amount</th>\n",
       "      <th>Class</th>\n",
       "    </tr>\n",
       "  </thead>\n",
       "  <tbody>\n",
       "    <tr>\n",
       "      <td>0</td>\n",
       "      <td>0.0</td>\n",
       "      <td>-1.359807</td>\n",
       "      <td>-0.072781</td>\n",
       "      <td>2.536347</td>\n",
       "      <td>1.378155</td>\n",
       "      <td>-0.338321</td>\n",
       "      <td>0.462388</td>\n",
       "      <td>0.239599</td>\n",
       "      <td>0.098698</td>\n",
       "      <td>0.363787</td>\n",
       "      <td>...</td>\n",
       "      <td>-0.018307</td>\n",
       "      <td>0.277838</td>\n",
       "      <td>-0.110474</td>\n",
       "      <td>0.066928</td>\n",
       "      <td>0.128539</td>\n",
       "      <td>-0.189115</td>\n",
       "      <td>0.133558</td>\n",
       "      <td>-0.021053</td>\n",
       "      <td>149.62</td>\n",
       "      <td>0</td>\n",
       "    </tr>\n",
       "    <tr>\n",
       "      <td>1</td>\n",
       "      <td>0.0</td>\n",
       "      <td>1.191857</td>\n",
       "      <td>0.266151</td>\n",
       "      <td>0.166480</td>\n",
       "      <td>0.448154</td>\n",
       "      <td>0.060018</td>\n",
       "      <td>-0.082361</td>\n",
       "      <td>-0.078803</td>\n",
       "      <td>0.085102</td>\n",
       "      <td>-0.255425</td>\n",
       "      <td>...</td>\n",
       "      <td>-0.225775</td>\n",
       "      <td>-0.638672</td>\n",
       "      <td>0.101288</td>\n",
       "      <td>-0.339846</td>\n",
       "      <td>0.167170</td>\n",
       "      <td>0.125895</td>\n",
       "      <td>-0.008983</td>\n",
       "      <td>0.014724</td>\n",
       "      <td>2.69</td>\n",
       "      <td>0</td>\n",
       "    </tr>\n",
       "    <tr>\n",
       "      <td>2</td>\n",
       "      <td>1.0</td>\n",
       "      <td>-1.358354</td>\n",
       "      <td>-1.340163</td>\n",
       "      <td>1.773209</td>\n",
       "      <td>0.379780</td>\n",
       "      <td>-0.503198</td>\n",
       "      <td>1.800499</td>\n",
       "      <td>0.791461</td>\n",
       "      <td>0.247676</td>\n",
       "      <td>-1.514654</td>\n",
       "      <td>...</td>\n",
       "      <td>0.247998</td>\n",
       "      <td>0.771679</td>\n",
       "      <td>0.909412</td>\n",
       "      <td>-0.689281</td>\n",
       "      <td>-0.327642</td>\n",
       "      <td>-0.139097</td>\n",
       "      <td>-0.055353</td>\n",
       "      <td>-0.059752</td>\n",
       "      <td>378.66</td>\n",
       "      <td>0</td>\n",
       "    </tr>\n",
       "    <tr>\n",
       "      <td>3</td>\n",
       "      <td>1.0</td>\n",
       "      <td>-0.966272</td>\n",
       "      <td>-0.185226</td>\n",
       "      <td>1.792993</td>\n",
       "      <td>-0.863291</td>\n",
       "      <td>-0.010309</td>\n",
       "      <td>1.247203</td>\n",
       "      <td>0.237609</td>\n",
       "      <td>0.377436</td>\n",
       "      <td>-1.387024</td>\n",
       "      <td>...</td>\n",
       "      <td>-0.108300</td>\n",
       "      <td>0.005274</td>\n",
       "      <td>-0.190321</td>\n",
       "      <td>-1.175575</td>\n",
       "      <td>0.647376</td>\n",
       "      <td>-0.221929</td>\n",
       "      <td>0.062723</td>\n",
       "      <td>0.061458</td>\n",
       "      <td>123.50</td>\n",
       "      <td>0</td>\n",
       "    </tr>\n",
       "    <tr>\n",
       "      <td>4</td>\n",
       "      <td>2.0</td>\n",
       "      <td>-1.158233</td>\n",
       "      <td>0.877737</td>\n",
       "      <td>1.548718</td>\n",
       "      <td>0.403034</td>\n",
       "      <td>-0.407193</td>\n",
       "      <td>0.095921</td>\n",
       "      <td>0.592941</td>\n",
       "      <td>-0.270533</td>\n",
       "      <td>0.817739</td>\n",
       "      <td>...</td>\n",
       "      <td>-0.009431</td>\n",
       "      <td>0.798278</td>\n",
       "      <td>-0.137458</td>\n",
       "      <td>0.141267</td>\n",
       "      <td>-0.206010</td>\n",
       "      <td>0.502292</td>\n",
       "      <td>0.219422</td>\n",
       "      <td>0.215153</td>\n",
       "      <td>69.99</td>\n",
       "      <td>0</td>\n",
       "    </tr>\n",
       "  </tbody>\n",
       "</table>\n",
       "<p>5 rows × 31 columns</p>\n",
       "</div>"
      ],
      "text/plain": [
       "   Time        V1        V2        V3        V4        V5        V6        V7  \\\n",
       "0   0.0 -1.359807 -0.072781  2.536347  1.378155 -0.338321  0.462388  0.239599   \n",
       "1   0.0  1.191857  0.266151  0.166480  0.448154  0.060018 -0.082361 -0.078803   \n",
       "2   1.0 -1.358354 -1.340163  1.773209  0.379780 -0.503198  1.800499  0.791461   \n",
       "3   1.0 -0.966272 -0.185226  1.792993 -0.863291 -0.010309  1.247203  0.237609   \n",
       "4   2.0 -1.158233  0.877737  1.548718  0.403034 -0.407193  0.095921  0.592941   \n",
       "\n",
       "         V8        V9  ...       V21       V22       V23       V24       V25  \\\n",
       "0  0.098698  0.363787  ... -0.018307  0.277838 -0.110474  0.066928  0.128539   \n",
       "1  0.085102 -0.255425  ... -0.225775 -0.638672  0.101288 -0.339846  0.167170   \n",
       "2  0.247676 -1.514654  ...  0.247998  0.771679  0.909412 -0.689281 -0.327642   \n",
       "3  0.377436 -1.387024  ... -0.108300  0.005274 -0.190321 -1.175575  0.647376   \n",
       "4 -0.270533  0.817739  ... -0.009431  0.798278 -0.137458  0.141267 -0.206010   \n",
       "\n",
       "        V26       V27       V28  Amount  Class  \n",
       "0 -0.189115  0.133558 -0.021053  149.62      0  \n",
       "1  0.125895 -0.008983  0.014724    2.69      0  \n",
       "2 -0.139097 -0.055353 -0.059752  378.66      0  \n",
       "3 -0.221929  0.062723  0.061458  123.50      0  \n",
       "4  0.502292  0.219422  0.215153   69.99      0  \n",
       "\n",
       "[5 rows x 31 columns]"
      ]
     },
     "execution_count": 7,
     "metadata": {},
     "output_type": "execute_result"
    }
   ],
   "source": [
    "df.head(5)"
   ]
  },
  {
   "cell_type": "code",
   "execution_count": 12,
   "metadata": {},
   "outputs": [
    {
     "data": {
      "text/plain": [
       "False"
      ]
     },
     "execution_count": 12,
     "metadata": {},
     "output_type": "execute_result"
    }
   ],
   "source": [
    "df.isnull().values.any() # Nice, no missing value in this dataset"
   ]
  },
  {
   "cell_type": "code",
   "execution_count": 16,
   "metadata": {},
   "outputs": [
    {
     "data": {
      "text/plain": [
       "count    284807.000000\n",
       "mean         88.349619\n",
       "std         250.120109\n",
       "min           0.000000\n",
       "25%           5.600000\n",
       "50%          22.000000\n",
       "75%          77.165000\n",
       "max       25691.160000\n",
       "Name: Amount, dtype: float64"
      ]
     },
     "execution_count": 16,
     "metadata": {},
     "output_type": "execute_result"
    }
   ],
   "source": [
    "df[\"Amount\"].describe()"
   ]
  },
  {
   "cell_type": "code",
   "execution_count": 31,
   "metadata": {},
   "outputs": [
    {
     "data": {
      "text/plain": [
       "count    284807.000000\n",
       "mean      94813.859575\n",
       "std       47488.145955\n",
       "min           0.000000\n",
       "25%       54201.500000\n",
       "50%       84692.000000\n",
       "75%      139320.500000\n",
       "max      172792.000000\n",
       "Name: Time, dtype: float64"
      ]
     },
     "execution_count": 31,
     "metadata": {},
     "output_type": "execute_result"
    }
   ],
   "source": [
    "df[\"Time\"].describe()"
   ]
  },
  {
   "cell_type": "markdown",
   "metadata": {},
   "source": [
    "## How many transactions are labeled as fraud?\n",
    "\n",
    "This seems like an imbalance dataset. With 492 fraud and 284315 valid transaction. This is highly imbalanced..."
   ]
  },
  {
   "cell_type": "code",
   "execution_count": 23,
   "metadata": {},
   "outputs": [
    {
     "data": {
      "text/plain": [
       "0    284315\n",
       "1       492\n",
       "Name: Class, dtype: int64"
      ]
     },
     "execution_count": 23,
     "metadata": {},
     "output_type": "execute_result"
    }
   ],
   "source": [
    "pd.value_counts(df[\"Class\"])"
   ]
  },
  {
   "cell_type": "code",
   "execution_count": 34,
   "metadata": {},
   "outputs": [
    {
     "data": {
      "text/plain": [
       "<AxesSubplot:>"
      ]
     },
     "execution_count": 34,
     "metadata": {},
     "output_type": "execute_result"
    },
    {
     "data": {
      "image/png": "[encoded data removed]",
      "text/plain": [
       "<Figure size 432x288 with 1 Axes>"
      ]
     },
     "metadata": {
      "needs_background": "light"
     },
     "output_type": "display_data"
    }
   ],
   "source": [
    "pd.value_counts(df[\"Class\"]).plot.bar()"
   ]
  },
  {
   "cell_type": "markdown",
   "metadata": {},
   "source": [
    "## What is the distribution of the other \"known\" features?\n",
    "\n",
    "The distribution of the graphs show the following:\n",
    "\n",
    "1) Amount is skewed --> potentially be biased?\n",
    "\n",
    "2) Time is less skewed.\n",
    "\n",
    "If the sample is unbalanced, this may cause overfitting. The model might assume for the most cases when the sample is heavily skewed on another end (mostly valid)."
   ]
  },
  {
   "cell_type": "code",
   "execution_count": 45,
   "metadata": {},
   "outputs": [
    {
     "data": {
      "text/plain": [
       "<AxesSubplot:ylabel='Frequency'>"
      ]
     },
     "execution_count": 45,
     "metadata": {},
     "output_type": "execute_result"
    },
    {
     "data": {
      "image/png": "[encoded data removed]",
      "text/plain": [
       "<Figure size 432x288 with 1 Axes>"
      ]
     },
     "metadata": {
      "needs_background": "light"
     },
     "output_type": "display_data"
    }
   ],
   "source": [
    "df[\"Amount\"].sort_values().plot.hist(bins=100)"
   ]
  },
  {
   "cell_type": "code",
   "execution_count": 44,
   "metadata": {},
   "outputs": [
    {
     "data": {
      "text/plain": [
       "<AxesSubplot:ylabel='Frequency'>"
      ]
     },
     "execution_count": 44,
     "metadata": {},
     "output_type": "execute_result"
    },
    {
     "data": {
      "image/png": "[encoded data removed]",
      "text/plain": [
       "<Figure size 432x288 with 1 Axes>"
      ]
     },
     "metadata": {
      "needs_background": "light"
     },
     "output_type": "display_data"
    }
   ],
   "source": [
    "df[\"Time\"].sort_values().plot.hist(bins=100)"
   ]
  },
  {
   "cell_type": "markdown",
   "metadata": {},
   "source": [
    "## How are the amount distributed in the \"fraud\" cases?"
   ]
  },
  {
   "cell_type": "code",
   "execution_count": 50,
   "metadata": {},
   "outputs": [
    {
     "data": {
      "text/plain": [
       "<AxesSubplot:ylabel='Frequency'>"
      ]
     },
     "execution_count": 50,
     "metadata": {},
     "output_type": "execute_result"
    },
    {
     "data": {
      "image/png": "[encoded data removed]",
      "text/plain": [
       "<Figure size 432x288 with 1 Axes>"
      ]
     },
     "metadata": {
      "needs_background": "light"
     },
     "output_type": "display_data"
    }
   ],
   "source": [
    "df[df[\"Class\"] == 1][\"Amount\"].sort_values().plot.hist(bins=15)"
   ]
  },
  {
   "cell_type": "markdown",
   "metadata": {},
   "source": [
    "## How are the amount distributed in the non-fraud cases?"
   ]
  },
  {
   "cell_type": "code",
   "execution_count": 51,
   "metadata": {},
   "outputs": [
    {
     "data": {
      "text/plain": [
       "<AxesSubplot:ylabel='Frequency'>"
      ]
     },
     "execution_count": 51,
     "metadata": {},
     "output_type": "execute_result"
    },
    {
     "data": {
      "image/png": "[encoded data removed]",
      "text/plain": [
       "<Figure size 432x288 with 1 Axes>"
      ]
     },
     "metadata": {
      "needs_background": "light"
     },
     "output_type": "display_data"
    }
   ],
   "source": [
    "df[df[\"Class\"] == 0][\"Amount\"].sort_values().plot.hist(bins=15)"
   ]
  },
  {
   "cell_type": "markdown",
   "metadata": {},
   "source": [
    "# Dealing with Imbalanced Dataset\n",
    "\n",
    "https://www.kdnuggets.com/2017/06/7-techniques-handle-imbalanced-data.html\n",
    "\n",
    "- Resample the training set #1: Under-sampling (reduces the size of abundant class. Quantity of data is sufficient)\n",
    "- Resample the training set #2: Over-sampling (increase the size of the rare samples)\n",
    "\n",
    "In our case, I think it would be possible for us to use one of these techniques to resample the training set. I can first try to reduce the size of abundant class... so i will reduce the valid transaction to 492 samples so it's balance"
   ]
  },
  {
   "cell_type": "code",
   "execution_count": 108,
   "metadata": {
    "scrolled": true
   },
   "outputs": [
    {
     "data": {
      "text/html": [
       "<div>\n",
       "<style scoped>\n",
       "    .dataframe tbody tr th:only-of-type {\n",
       "        vertical-align: middle;\n",
       "    }\n",
       "\n",
       "    .dataframe tbody tr th {\n",
       "        vertical-align: top;\n",
       "    }\n",
       "\n",
       "    .dataframe thead th {\n",
       "        text-align: right;\n",
       "    }\n",
       "</style>\n",
       "<table border=\"1\" class=\"dataframe\">\n",
       "  <thead>\n",
       "    <tr style=\"text-align: right;\">\n",
       "      <th></th>\n",
       "      <th>Time</th>\n",
       "      <th>V1</th>\n",
       "      <th>V2</th>\n",
       "      <th>V3</th>\n",
       "      <th>V4</th>\n",
       "      <th>V5</th>\n",
       "      <th>V6</th>\n",
       "      <th>V7</th>\n",
       "      <th>V8</th>\n",
       "      <th>V9</th>\n",
       "      <th>...</th>\n",
       "      <th>V21</th>\n",
       "      <th>V22</th>\n",
       "      <th>V23</th>\n",
       "      <th>V24</th>\n",
       "      <th>V25</th>\n",
       "      <th>V26</th>\n",
       "      <th>V27</th>\n",
       "      <th>V28</th>\n",
       "      <th>Amount</th>\n",
       "      <th>Class</th>\n",
       "    </tr>\n",
       "  </thead>\n",
       "  <tbody>\n",
       "    <tr>\n",
       "      <td>0</td>\n",
       "      <td>0.0</td>\n",
       "      <td>-1.359807</td>\n",
       "      <td>-0.072781</td>\n",
       "      <td>2.536347</td>\n",
       "      <td>1.378155</td>\n",
       "      <td>-0.338321</td>\n",
       "      <td>0.462388</td>\n",
       "      <td>0.239599</td>\n",
       "      <td>0.098698</td>\n",
       "      <td>0.363787</td>\n",
       "      <td>...</td>\n",
       "      <td>-0.018307</td>\n",
       "      <td>0.277838</td>\n",
       "      <td>-0.110474</td>\n",
       "      <td>0.066928</td>\n",
       "      <td>0.128539</td>\n",
       "      <td>-0.189115</td>\n",
       "      <td>0.133558</td>\n",
       "      <td>-0.021053</td>\n",
       "      <td>149.62</td>\n",
       "      <td>0</td>\n",
       "    </tr>\n",
       "    <tr>\n",
       "      <td>1</td>\n",
       "      <td>0.0</td>\n",
       "      <td>1.191857</td>\n",
       "      <td>0.266151</td>\n",
       "      <td>0.166480</td>\n",
       "      <td>0.448154</td>\n",
       "      <td>0.060018</td>\n",
       "      <td>-0.082361</td>\n",
       "      <td>-0.078803</td>\n",
       "      <td>0.085102</td>\n",
       "      <td>-0.255425</td>\n",
       "      <td>...</td>\n",
       "      <td>-0.225775</td>\n",
       "      <td>-0.638672</td>\n",
       "      <td>0.101288</td>\n",
       "      <td>-0.339846</td>\n",
       "      <td>0.167170</td>\n",
       "      <td>0.125895</td>\n",
       "      <td>-0.008983</td>\n",
       "      <td>0.014724</td>\n",
       "      <td>2.69</td>\n",
       "      <td>0</td>\n",
       "    </tr>\n",
       "    <tr>\n",
       "      <td>2</td>\n",
       "      <td>1.0</td>\n",
       "      <td>-1.358354</td>\n",
       "      <td>-1.340163</td>\n",
       "      <td>1.773209</td>\n",
       "      <td>0.379780</td>\n",
       "      <td>-0.503198</td>\n",
       "      <td>1.800499</td>\n",
       "      <td>0.791461</td>\n",
       "      <td>0.247676</td>\n",
       "      <td>-1.514654</td>\n",
       "      <td>...</td>\n",
       "      <td>0.247998</td>\n",
       "      <td>0.771679</td>\n",
       "      <td>0.909412</td>\n",
       "      <td>-0.689281</td>\n",
       "      <td>-0.327642</td>\n",
       "      <td>-0.139097</td>\n",
       "      <td>-0.055353</td>\n",
       "      <td>-0.059752</td>\n",
       "      <td>378.66</td>\n",
       "      <td>0</td>\n",
       "    </tr>\n",
       "    <tr>\n",
       "      <td>3</td>\n",
       "      <td>1.0</td>\n",
       "      <td>-0.966272</td>\n",
       "      <td>-0.185226</td>\n",
       "      <td>1.792993</td>\n",
       "      <td>-0.863291</td>\n",
       "      <td>-0.010309</td>\n",
       "      <td>1.247203</td>\n",
       "      <td>0.237609</td>\n",
       "      <td>0.377436</td>\n",
       "      <td>-1.387024</td>\n",
       "      <td>...</td>\n",
       "      <td>-0.108300</td>\n",
       "      <td>0.005274</td>\n",
       "      <td>-0.190321</td>\n",
       "      <td>-1.175575</td>\n",
       "      <td>0.647376</td>\n",
       "      <td>-0.221929</td>\n",
       "      <td>0.062723</td>\n",
       "      <td>0.061458</td>\n",
       "      <td>123.50</td>\n",
       "      <td>0</td>\n",
       "    </tr>\n",
       "    <tr>\n",
       "      <td>4</td>\n",
       "      <td>2.0</td>\n",
       "      <td>-1.158233</td>\n",
       "      <td>0.877737</td>\n",
       "      <td>1.548718</td>\n",
       "      <td>0.403034</td>\n",
       "      <td>-0.407193</td>\n",
       "      <td>0.095921</td>\n",
       "      <td>0.592941</td>\n",
       "      <td>-0.270533</td>\n",
       "      <td>0.817739</td>\n",
       "      <td>...</td>\n",
       "      <td>-0.009431</td>\n",
       "      <td>0.798278</td>\n",
       "      <td>-0.137458</td>\n",
       "      <td>0.141267</td>\n",
       "      <td>-0.206010</td>\n",
       "      <td>0.502292</td>\n",
       "      <td>0.219422</td>\n",
       "      <td>0.215153</td>\n",
       "      <td>69.99</td>\n",
       "      <td>0</td>\n",
       "    </tr>\n",
       "  </tbody>\n",
       "</table>\n",
       "<p>5 rows × 31 columns</p>\n",
       "</div>"
      ],
      "text/plain": [
       "   Time        V1        V2        V3        V4        V5        V6        V7  \\\n",
       "0   0.0 -1.359807 -0.072781  2.536347  1.378155 -0.338321  0.462388  0.239599   \n",
       "1   0.0  1.191857  0.266151  0.166480  0.448154  0.060018 -0.082361 -0.078803   \n",
       "2   1.0 -1.358354 -1.340163  1.773209  0.379780 -0.503198  1.800499  0.791461   \n",
       "3   1.0 -0.966272 -0.185226  1.792993 -0.863291 -0.010309  1.247203  0.237609   \n",
       "4   2.0 -1.158233  0.877737  1.548718  0.403034 -0.407193  0.095921  0.592941   \n",
       "\n",
       "         V8        V9  ...       V21       V22       V23       V24       V25  \\\n",
       "0  0.098698  0.363787  ... -0.018307  0.277838 -0.110474  0.066928  0.128539   \n",
       "1  0.085102 -0.255425  ... -0.225775 -0.638672  0.101288 -0.339846  0.167170   \n",
       "2  0.247676 -1.514654  ...  0.247998  0.771679  0.909412 -0.689281 -0.327642   \n",
       "3  0.377436 -1.387024  ... -0.108300  0.005274 -0.190321 -1.175575  0.647376   \n",
       "4 -0.270533  0.817739  ... -0.009431  0.798278 -0.137458  0.141267 -0.206010   \n",
       "\n",
       "        V26       V27       V28  Amount  Class  \n",
       "0 -0.189115  0.133558 -0.021053  149.62      0  \n",
       "1  0.125895 -0.008983  0.014724    2.69      0  \n",
       "2 -0.139097 -0.055353 -0.059752  378.66      0  \n",
       "3 -0.221929  0.062723  0.061458  123.50      0  \n",
       "4  0.502292  0.219422  0.215153   69.99      0  \n",
       "\n",
       "[5 rows x 31 columns]"
      ]
     },
     "execution_count": 108,
     "metadata": {},
     "output_type": "execute_result"
    }
   ],
   "source": [
    "df.head()"
   ]
  },
  {
   "cell_type": "code",
   "execution_count": 109,
   "metadata": {},
   "outputs": [],
   "source": [
    "resamples = df.sample(frac=1) # resample a fraction"
   ]
  },
  {
   "cell_type": "code",
   "execution_count": 110,
   "metadata": {},
   "outputs": [],
   "source": [
    "fraud = resamples.loc[df[\"Class\"] == 1] # take all the fraud transaction\n",
    "non_fraud = resamples.loc[df[\"Class\"] == 0][:492] # take 492 the non-fraud transaction"
   ]
  },
  {
   "cell_type": "code",
   "execution_count": 111,
   "metadata": {},
   "outputs": [],
   "source": [
    "new_df = pd.concat([fraud, non_fraud])"
   ]
  },
  {
   "cell_type": "code",
   "execution_count": 112,
   "metadata": {},
   "outputs": [
    {
     "data": {
      "text/plain": [
       "<AxesSubplot:>"
      ]
     },
     "execution_count": 112,
     "metadata": {},
     "output_type": "execute_result"
    },
    {
     "data": {
      "image/png": "[encoded data removed]",
      "text/plain": [
       "<Figure size 432x288 with 1 Axes>"
      ]
     },
     "metadata": {
      "needs_background": "light"
     },
     "output_type": "display_data"
    }
   ],
   "source": [
    "pd.value_counts(new_df[\"Class\"]).plot.bar()"
   ]
  },
  {
   "cell_type": "markdown",
   "metadata": {},
   "source": [
    "# Transform the Amount/Time\n",
    "\n",
    "Since \"Amount\" and \"Time\" are not transformed, we will not be able to run any other stuffs beyond this."
   ]
  },
  {
   "cell_type": "code",
   "execution_count": 113,
   "metadata": {},
   "outputs": [
    {
     "data": {
      "text/html": [
       "<div>\n",
       "<style scoped>\n",
       "    .dataframe tbody tr th:only-of-type {\n",
       "        vertical-align: middle;\n",
       "    }\n",
       "\n",
       "    .dataframe tbody tr th {\n",
       "        vertical-align: top;\n",
       "    }\n",
       "\n",
       "    .dataframe thead th {\n",
       "        text-align: right;\n",
       "    }\n",
       "</style>\n",
       "<table border=\"1\" class=\"dataframe\">\n",
       "  <thead>\n",
       "    <tr style=\"text-align: right;\">\n",
       "      <th></th>\n",
       "      <th>Time</th>\n",
       "      <th>V1</th>\n",
       "      <th>V2</th>\n",
       "      <th>V3</th>\n",
       "      <th>V4</th>\n",
       "      <th>V5</th>\n",
       "      <th>V6</th>\n",
       "      <th>V7</th>\n",
       "      <th>V8</th>\n",
       "      <th>V9</th>\n",
       "      <th>...</th>\n",
       "      <th>V21</th>\n",
       "      <th>V22</th>\n",
       "      <th>V23</th>\n",
       "      <th>V24</th>\n",
       "      <th>V25</th>\n",
       "      <th>V26</th>\n",
       "      <th>V27</th>\n",
       "      <th>V28</th>\n",
       "      <th>Amount</th>\n",
       "      <th>Class</th>\n",
       "    </tr>\n",
       "  </thead>\n",
       "  <tbody>\n",
       "    <tr>\n",
       "      <td>96789</td>\n",
       "      <td>65936.0</td>\n",
       "      <td>-3.593476</td>\n",
       "      <td>0.781442</td>\n",
       "      <td>-1.822448</td>\n",
       "      <td>0.605761</td>\n",
       "      <td>-1.194656</td>\n",
       "      <td>-0.517195</td>\n",
       "      <td>-1.722523</td>\n",
       "      <td>0.128890</td>\n",
       "      <td>0.014963</td>\n",
       "      <td>...</td>\n",
       "      <td>0.351792</td>\n",
       "      <td>0.391249</td>\n",
       "      <td>-0.252875</td>\n",
       "      <td>-0.498042</td>\n",
       "      <td>0.010172</td>\n",
       "      <td>0.909929</td>\n",
       "      <td>-1.478767</td>\n",
       "      <td>0.722673</td>\n",
       "      <td>101.50</td>\n",
       "      <td>1</td>\n",
       "    </tr>\n",
       "    <tr>\n",
       "      <td>274475</td>\n",
       "      <td>166028.0</td>\n",
       "      <td>-0.956390</td>\n",
       "      <td>2.361594</td>\n",
       "      <td>-3.171195</td>\n",
       "      <td>1.970759</td>\n",
       "      <td>0.474761</td>\n",
       "      <td>-1.902598</td>\n",
       "      <td>-0.055178</td>\n",
       "      <td>0.277831</td>\n",
       "      <td>-1.745854</td>\n",
       "      <td>...</td>\n",
       "      <td>0.473211</td>\n",
       "      <td>0.719400</td>\n",
       "      <td>0.122458</td>\n",
       "      <td>-0.255650</td>\n",
       "      <td>-0.619259</td>\n",
       "      <td>-0.484280</td>\n",
       "      <td>0.683535</td>\n",
       "      <td>0.443299</td>\n",
       "      <td>39.90</td>\n",
       "      <td>1</td>\n",
       "    </tr>\n",
       "    <tr>\n",
       "      <td>219025</td>\n",
       "      <td>141565.0</td>\n",
       "      <td>0.114965</td>\n",
       "      <td>0.766762</td>\n",
       "      <td>-0.494132</td>\n",
       "      <td>0.116772</td>\n",
       "      <td>0.868169</td>\n",
       "      <td>-0.477982</td>\n",
       "      <td>0.438496</td>\n",
       "      <td>0.063073</td>\n",
       "      <td>-0.186207</td>\n",
       "      <td>...</td>\n",
       "      <td>-0.284413</td>\n",
       "      <td>-0.706865</td>\n",
       "      <td>0.131405</td>\n",
       "      <td>0.600742</td>\n",
       "      <td>-0.604264</td>\n",
       "      <td>0.262938</td>\n",
       "      <td>0.099145</td>\n",
       "      <td>0.010810</td>\n",
       "      <td>4.49</td>\n",
       "      <td>1</td>\n",
       "    </tr>\n",
       "    <tr>\n",
       "      <td>44223</td>\n",
       "      <td>41851.0</td>\n",
       "      <td>-19.139733</td>\n",
       "      <td>9.286847</td>\n",
       "      <td>-20.134992</td>\n",
       "      <td>7.818673</td>\n",
       "      <td>-15.652208</td>\n",
       "      <td>-1.668348</td>\n",
       "      <td>-21.340478</td>\n",
       "      <td>0.641900</td>\n",
       "      <td>-8.550110</td>\n",
       "      <td>...</td>\n",
       "      <td>-2.182692</td>\n",
       "      <td>0.520543</td>\n",
       "      <td>-0.760556</td>\n",
       "      <td>0.662767</td>\n",
       "      <td>-0.948454</td>\n",
       "      <td>0.121796</td>\n",
       "      <td>-3.381843</td>\n",
       "      <td>-1.256524</td>\n",
       "      <td>139.90</td>\n",
       "      <td>1</td>\n",
       "    </tr>\n",
       "    <tr>\n",
       "      <td>88307</td>\n",
       "      <td>62080.0</td>\n",
       "      <td>-1.599457</td>\n",
       "      <td>2.607720</td>\n",
       "      <td>-2.987193</td>\n",
       "      <td>3.064156</td>\n",
       "      <td>-2.497914</td>\n",
       "      <td>-0.541103</td>\n",
       "      <td>-2.277786</td>\n",
       "      <td>1.268166</td>\n",
       "      <td>-1.997331</td>\n",
       "      <td>...</td>\n",
       "      <td>0.662933</td>\n",
       "      <td>0.184087</td>\n",
       "      <td>-0.089452</td>\n",
       "      <td>-0.506000</td>\n",
       "      <td>-0.062259</td>\n",
       "      <td>-0.052714</td>\n",
       "      <td>0.322854</td>\n",
       "      <td>0.135268</td>\n",
       "      <td>180.00</td>\n",
       "      <td>1</td>\n",
       "    </tr>\n",
       "    <tr>\n",
       "      <td>...</td>\n",
       "      <td>...</td>\n",
       "      <td>...</td>\n",
       "      <td>...</td>\n",
       "      <td>...</td>\n",
       "      <td>...</td>\n",
       "      <td>...</td>\n",
       "      <td>...</td>\n",
       "      <td>...</td>\n",
       "      <td>...</td>\n",
       "      <td>...</td>\n",
       "      <td>...</td>\n",
       "      <td>...</td>\n",
       "      <td>...</td>\n",
       "      <td>...</td>\n",
       "      <td>...</td>\n",
       "      <td>...</td>\n",
       "      <td>...</td>\n",
       "      <td>...</td>\n",
       "      <td>...</td>\n",
       "      <td>...</td>\n",
       "      <td>...</td>\n",
       "    </tr>\n",
       "    <tr>\n",
       "      <td>259294</td>\n",
       "      <td>159050.0</td>\n",
       "      <td>1.525174</td>\n",
       "      <td>-2.141343</td>\n",
       "      <td>0.059417</td>\n",
       "      <td>-0.580808</td>\n",
       "      <td>-2.151077</td>\n",
       "      <td>-0.294340</td>\n",
       "      <td>-1.168633</td>\n",
       "      <td>-0.058361</td>\n",
       "      <td>0.468646</td>\n",
       "      <td>...</td>\n",
       "      <td>0.009558</td>\n",
       "      <td>0.047869</td>\n",
       "      <td>0.091432</td>\n",
       "      <td>0.124362</td>\n",
       "      <td>-0.898034</td>\n",
       "      <td>1.210920</td>\n",
       "      <td>-0.068153</td>\n",
       "      <td>0.013915</td>\n",
       "      <td>304.90</td>\n",
       "      <td>0</td>\n",
       "    </tr>\n",
       "    <tr>\n",
       "      <td>248693</td>\n",
       "      <td>154052.0</td>\n",
       "      <td>1.994708</td>\n",
       "      <td>0.202986</td>\n",
       "      <td>-1.699665</td>\n",
       "      <td>1.197022</td>\n",
       "      <td>0.704945</td>\n",
       "      <td>-0.616030</td>\n",
       "      <td>0.596291</td>\n",
       "      <td>-0.296859</td>\n",
       "      <td>-0.151811</td>\n",
       "      <td>...</td>\n",
       "      <td>0.093444</td>\n",
       "      <td>0.484723</td>\n",
       "      <td>-0.070764</td>\n",
       "      <td>-0.368684</td>\n",
       "      <td>0.494809</td>\n",
       "      <td>-0.489933</td>\n",
       "      <td>-0.015359</td>\n",
       "      <td>-0.072563</td>\n",
       "      <td>16.23</td>\n",
       "      <td>0</td>\n",
       "    </tr>\n",
       "    <tr>\n",
       "      <td>141397</td>\n",
       "      <td>84288.0</td>\n",
       "      <td>-0.994435</td>\n",
       "      <td>0.189321</td>\n",
       "      <td>1.908873</td>\n",
       "      <td>-2.499186</td>\n",
       "      <td>0.237313</td>\n",
       "      <td>0.358123</td>\n",
       "      <td>-0.066577</td>\n",
       "      <td>0.368938</td>\n",
       "      <td>1.336734</td>\n",
       "      <td>...</td>\n",
       "      <td>0.229053</td>\n",
       "      <td>0.793701</td>\n",
       "      <td>-0.502777</td>\n",
       "      <td>-1.303073</td>\n",
       "      <td>0.726855</td>\n",
       "      <td>-0.542041</td>\n",
       "      <td>0.360094</td>\n",
       "      <td>0.129217</td>\n",
       "      <td>19.99</td>\n",
       "      <td>0</td>\n",
       "    </tr>\n",
       "    <tr>\n",
       "      <td>272627</td>\n",
       "      <td>165187.0</td>\n",
       "      <td>-1.302948</td>\n",
       "      <td>0.864295</td>\n",
       "      <td>-0.918924</td>\n",
       "      <td>-0.302191</td>\n",
       "      <td>-0.240856</td>\n",
       "      <td>-1.162195</td>\n",
       "      <td>0.435364</td>\n",
       "      <td>0.644166</td>\n",
       "      <td>0.093389</td>\n",
       "      <td>...</td>\n",
       "      <td>-0.132308</td>\n",
       "      <td>-0.606040</td>\n",
       "      <td>-0.140184</td>\n",
       "      <td>-0.156120</td>\n",
       "      <td>0.167999</td>\n",
       "      <td>-0.086882</td>\n",
       "      <td>-0.299184</td>\n",
       "      <td>-0.254410</td>\n",
       "      <td>110.14</td>\n",
       "      <td>0</td>\n",
       "    </tr>\n",
       "    <tr>\n",
       "      <td>188904</td>\n",
       "      <td>128181.0</td>\n",
       "      <td>-0.289201</td>\n",
       "      <td>0.823703</td>\n",
       "      <td>-0.532732</td>\n",
       "      <td>-0.667429</td>\n",
       "      <td>1.066639</td>\n",
       "      <td>-0.735212</td>\n",
       "      <td>0.882202</td>\n",
       "      <td>-0.021573</td>\n",
       "      <td>-0.131912</td>\n",
       "      <td>...</td>\n",
       "      <td>-0.170522</td>\n",
       "      <td>-0.397949</td>\n",
       "      <td>0.229818</td>\n",
       "      <td>0.655870</td>\n",
       "      <td>-1.432221</td>\n",
       "      <td>-0.080390</td>\n",
       "      <td>0.358049</td>\n",
       "      <td>0.331346</td>\n",
       "      <td>26.99</td>\n",
       "      <td>0</td>\n",
       "    </tr>\n",
       "  </tbody>\n",
       "</table>\n",
       "<p>984 rows × 31 columns</p>\n",
       "</div>"
      ],
      "text/plain": [
       "            Time         V1        V2         V3        V4         V5  \\\n",
       "96789    65936.0  -3.593476  0.781442  -1.822448  0.605761  -1.194656   \n",
       "274475  166028.0  -0.956390  2.361594  -3.171195  1.970759   0.474761   \n",
       "219025  141565.0   0.114965  0.766762  -0.494132  0.116772   0.868169   \n",
       "44223    41851.0 -19.139733  9.286847 -20.134992  7.818673 -15.652208   \n",
       "88307    62080.0  -1.599457  2.607720  -2.987193  3.064156  -2.497914   \n",
       "...          ...        ...       ...        ...       ...        ...   \n",
       "259294  159050.0   1.525174 -2.141343   0.059417 -0.580808  -2.151077   \n",
       "248693  154052.0   1.994708  0.202986  -1.699665  1.197022   0.704945   \n",
       "141397   84288.0  -0.994435  0.189321   1.908873 -2.499186   0.237313   \n",
       "272627  165187.0  -1.302948  0.864295  -0.918924 -0.302191  -0.240856   \n",
       "188904  128181.0  -0.289201  0.823703  -0.532732 -0.667429   1.066639   \n",
       "\n",
       "              V6         V7        V8        V9  ...       V21       V22  \\\n",
       "96789  -0.517195  -1.722523  0.128890  0.014963  ...  0.351792  0.391249   \n",
       "274475 -1.902598  -0.055178  0.277831 -1.745854  ...  0.473211  0.719400   \n",
       "219025 -0.477982   0.438496  0.063073 -0.186207  ... -0.284413 -0.706865   \n",
       "44223  -1.668348 -21.340478  0.641900 -8.550110  ... -2.182692  0.520543   \n",
       "88307  -0.541103  -2.277786  1.268166 -1.997331  ...  0.662933  0.184087   \n",
       "...          ...        ...       ...       ...  ...       ...       ...   \n",
       "259294 -0.294340  -1.168633 -0.058361  0.468646  ...  0.009558  0.047869   \n",
       "248693 -0.616030   0.596291 -0.296859 -0.151811  ...  0.093444  0.484723   \n",
       "141397  0.358123  -0.066577  0.368938  1.336734  ...  0.229053  0.793701   \n",
       "272627 -1.162195   0.435364  0.644166  0.093389  ... -0.132308 -0.606040   \n",
       "188904 -0.735212   0.882202 -0.021573 -0.131912  ... -0.170522 -0.397949   \n",
       "\n",
       "             V23       V24       V25       V26       V27       V28  Amount  \\\n",
       "96789  -0.252875 -0.498042  0.010172  0.909929 -1.478767  0.722673  101.50   \n",
       "274475  0.122458 -0.255650 -0.619259 -0.484280  0.683535  0.443299   39.90   \n",
       "219025  0.131405  0.600742 -0.604264  0.262938  0.099145  0.010810    4.49   \n",
       "44223  -0.760556  0.662767 -0.948454  0.121796 -3.381843 -1.256524  139.90   \n",
       "88307  -0.089452 -0.506000 -0.062259 -0.052714  0.322854  0.135268  180.00   \n",
       "...          ...       ...       ...       ...       ...       ...     ...   \n",
       "259294  0.091432  0.124362 -0.898034  1.210920 -0.068153  0.013915  304.90   \n",
       "248693 -0.070764 -0.368684  0.494809 -0.489933 -0.015359 -0.072563   16.23   \n",
       "141397 -0.502777 -1.303073  0.726855 -0.542041  0.360094  0.129217   19.99   \n",
       "272627 -0.140184 -0.156120  0.167999 -0.086882 -0.299184 -0.254410  110.14   \n",
       "188904  0.229818  0.655870 -1.432221 -0.080390  0.358049  0.331346   26.99   \n",
       "\n",
       "        Class  \n",
       "96789       1  \n",
       "274475      1  \n",
       "219025      1  \n",
       "44223       1  \n",
       "88307       1  \n",
       "...       ...  \n",
       "259294      0  \n",
       "248693      0  \n",
       "141397      0  \n",
       "272627      0  \n",
       "188904      0  \n",
       "\n",
       "[984 rows x 31 columns]"
      ]
     },
     "execution_count": 113,
     "metadata": {},
     "output_type": "execute_result"
    }
   ],
   "source": [
    "new_df"
   ]
  },
  {
   "cell_type": "code",
   "execution_count": 121,
   "metadata": {},
   "outputs": [],
   "source": [
    "from sklearn.preprocessing import StandardScaler\n",
    "scaler = StandardScaler()\n",
    "\n",
    "new_df[\"scaled_amount\"] = scaler.fit_transform(new_df[\"Amount\"].values.reshape(-1, 1))\n",
    "new_df[\"scaled_time\"] = scaler.fit_transform(new_df[\"Time\"].values.reshape(-1, 1))\n",
    "\n",
    "scaled_df = new_df.drop([\"Time\", \"Amount\"], axis=1)"
   ]
  },
  {
   "cell_type": "code",
   "execution_count": 119,
   "metadata": {},
   "outputs": [
    {
     "data": {
      "text/html": [
       "<div>\n",
       "<style scoped>\n",
       "    .dataframe tbody tr th:only-of-type {\n",
       "        vertical-align: middle;\n",
       "    }\n",
       "\n",
       "    .dataframe tbody tr th {\n",
       "        vertical-align: top;\n",
       "    }\n",
       "\n",
       "    .dataframe thead th {\n",
       "        text-align: right;\n",
       "    }\n",
       "</style>\n",
       "<table border=\"1\" class=\"dataframe\">\n",
       "  <thead>\n",
       "    <tr style=\"text-align: right;\">\n",
       "      <th></th>\n",
       "      <th>V1</th>\n",
       "      <th>V2</th>\n",
       "      <th>V3</th>\n",
       "      <th>V4</th>\n",
       "      <th>V5</th>\n",
       "      <th>V6</th>\n",
       "      <th>V7</th>\n",
       "      <th>V8</th>\n",
       "      <th>V9</th>\n",
       "      <th>V10</th>\n",
       "      <th>...</th>\n",
       "      <th>V22</th>\n",
       "      <th>V23</th>\n",
       "      <th>V24</th>\n",
       "      <th>V25</th>\n",
       "      <th>V26</th>\n",
       "      <th>V27</th>\n",
       "      <th>V28</th>\n",
       "      <th>Class</th>\n",
       "      <th>scaled_amount</th>\n",
       "      <th>scaled_time</th>\n",
       "    </tr>\n",
       "  </thead>\n",
       "  <tbody>\n",
       "    <tr>\n",
       "      <td>96789</td>\n",
       "      <td>-3.593476</td>\n",
       "      <td>0.781442</td>\n",
       "      <td>-1.822448</td>\n",
       "      <td>0.605761</td>\n",
       "      <td>-1.194656</td>\n",
       "      <td>-0.517195</td>\n",
       "      <td>-1.722523</td>\n",
       "      <td>0.128890</td>\n",
       "      <td>0.014963</td>\n",
       "      <td>-2.856117</td>\n",
       "      <td>...</td>\n",
       "      <td>0.391249</td>\n",
       "      <td>-0.252875</td>\n",
       "      <td>-0.498042</td>\n",
       "      <td>0.010172</td>\n",
       "      <td>0.909929</td>\n",
       "      <td>-1.478767</td>\n",
       "      <td>0.722673</td>\n",
       "      <td>1</td>\n",
       "      <td>-0.028714</td>\n",
       "      <td>-0.468989</td>\n",
       "    </tr>\n",
       "    <tr>\n",
       "      <td>274475</td>\n",
       "      <td>-0.956390</td>\n",
       "      <td>2.361594</td>\n",
       "      <td>-3.171195</td>\n",
       "      <td>1.970759</td>\n",
       "      <td>0.474761</td>\n",
       "      <td>-1.902598</td>\n",
       "      <td>-0.055178</td>\n",
       "      <td>0.277831</td>\n",
       "      <td>-1.745854</td>\n",
       "      <td>-2.516628</td>\n",
       "      <td>...</td>\n",
       "      <td>0.719400</td>\n",
       "      <td>0.122458</td>\n",
       "      <td>-0.255650</td>\n",
       "      <td>-0.619259</td>\n",
       "      <td>-0.484280</td>\n",
       "      <td>0.683535</td>\n",
       "      <td>0.443299</td>\n",
       "      <td>1</td>\n",
       "      <td>-0.295080</td>\n",
       "      <td>1.601203</td>\n",
       "    </tr>\n",
       "    <tr>\n",
       "      <td>219025</td>\n",
       "      <td>0.114965</td>\n",
       "      <td>0.766762</td>\n",
       "      <td>-0.494132</td>\n",
       "      <td>0.116772</td>\n",
       "      <td>0.868169</td>\n",
       "      <td>-0.477982</td>\n",
       "      <td>0.438496</td>\n",
       "      <td>0.063073</td>\n",
       "      <td>-0.186207</td>\n",
       "      <td>-0.159325</td>\n",
       "      <td>...</td>\n",
       "      <td>-0.706865</td>\n",
       "      <td>0.131405</td>\n",
       "      <td>0.600742</td>\n",
       "      <td>-0.604264</td>\n",
       "      <td>0.262938</td>\n",
       "      <td>0.099145</td>\n",
       "      <td>0.010810</td>\n",
       "      <td>1</td>\n",
       "      <td>-0.448197</td>\n",
       "      <td>1.095238</td>\n",
       "    </tr>\n",
       "    <tr>\n",
       "      <td>44223</td>\n",
       "      <td>-19.139733</td>\n",
       "      <td>9.286847</td>\n",
       "      <td>-20.134992</td>\n",
       "      <td>7.818673</td>\n",
       "      <td>-15.652208</td>\n",
       "      <td>-1.668348</td>\n",
       "      <td>-21.340478</td>\n",
       "      <td>0.641900</td>\n",
       "      <td>-8.550110</td>\n",
       "      <td>-16.649628</td>\n",
       "      <td>...</td>\n",
       "      <td>0.520543</td>\n",
       "      <td>-0.760556</td>\n",
       "      <td>0.662767</td>\n",
       "      <td>-0.948454</td>\n",
       "      <td>0.121796</td>\n",
       "      <td>-3.381843</td>\n",
       "      <td>-1.256524</td>\n",
       "      <td>1</td>\n",
       "      <td>0.137332</td>\n",
       "      <td>-0.967137</td>\n",
       "    </tr>\n",
       "    <tr>\n",
       "      <td>88307</td>\n",
       "      <td>-1.599457</td>\n",
       "      <td>2.607720</td>\n",
       "      <td>-2.987193</td>\n",
       "      <td>3.064156</td>\n",
       "      <td>-2.497914</td>\n",
       "      <td>-0.541103</td>\n",
       "      <td>-2.277786</td>\n",
       "      <td>1.268166</td>\n",
       "      <td>-1.997331</td>\n",
       "      <td>-3.834775</td>\n",
       "      <td>...</td>\n",
       "      <td>0.184087</td>\n",
       "      <td>-0.089452</td>\n",
       "      <td>-0.506000</td>\n",
       "      <td>-0.062259</td>\n",
       "      <td>-0.052714</td>\n",
       "      <td>0.322854</td>\n",
       "      <td>0.135268</td>\n",
       "      <td>1</td>\n",
       "      <td>0.310729</td>\n",
       "      <td>-0.548743</td>\n",
       "    </tr>\n",
       "    <tr>\n",
       "      <td>48094</td>\n",
       "      <td>-1.278138</td>\n",
       "      <td>0.716242</td>\n",
       "      <td>-1.143279</td>\n",
       "      <td>0.217805</td>\n",
       "      <td>-1.293890</td>\n",
       "      <td>-1.168952</td>\n",
       "      <td>-2.564182</td>\n",
       "      <td>0.204532</td>\n",
       "      <td>-1.611155</td>\n",
       "      <td>-1.250286</td>\n",
       "      <td>...</td>\n",
       "      <td>0.470427</td>\n",
       "      <td>-0.126261</td>\n",
       "      <td>-0.126644</td>\n",
       "      <td>-0.661908</td>\n",
       "      <td>-0.349793</td>\n",
       "      <td>0.454851</td>\n",
       "      <td>0.137843</td>\n",
       "      <td>1</td>\n",
       "      <td>-0.359942</td>\n",
       "      <td>-0.933155</td>\n",
       "    </tr>\n",
       "    <tr>\n",
       "      <td>4920</td>\n",
       "      <td>-2.303350</td>\n",
       "      <td>1.759247</td>\n",
       "      <td>-0.359745</td>\n",
       "      <td>2.330243</td>\n",
       "      <td>-0.821628</td>\n",
       "      <td>-0.075788</td>\n",
       "      <td>0.562320</td>\n",
       "      <td>-0.399147</td>\n",
       "      <td>-0.238253</td>\n",
       "      <td>-1.525412</td>\n",
       "      <td>...</td>\n",
       "      <td>-0.932391</td>\n",
       "      <td>0.172726</td>\n",
       "      <td>-0.087330</td>\n",
       "      <td>-0.156114</td>\n",
       "      <td>-0.542628</td>\n",
       "      <td>0.039566</td>\n",
       "      <td>-0.153029</td>\n",
       "      <td>1</td>\n",
       "      <td>0.569874</td>\n",
       "      <td>-1.740450</td>\n",
       "    </tr>\n",
       "    <tr>\n",
       "      <td>9035</td>\n",
       "      <td>-2.589617</td>\n",
       "      <td>7.016714</td>\n",
       "      <td>-13.705407</td>\n",
       "      <td>10.343228</td>\n",
       "      <td>-2.954461</td>\n",
       "      <td>-3.055116</td>\n",
       "      <td>-9.301289</td>\n",
       "      <td>3.349573</td>\n",
       "      <td>-5.654212</td>\n",
       "      <td>-11.853867</td>\n",
       "      <td>...</td>\n",
       "      <td>0.333998</td>\n",
       "      <td>0.287659</td>\n",
       "      <td>-1.186406</td>\n",
       "      <td>-0.690273</td>\n",
       "      <td>0.631704</td>\n",
       "      <td>1.934221</td>\n",
       "      <td>0.789687</td>\n",
       "      <td>1</td>\n",
       "      <td>-0.463289</td>\n",
       "      <td>-1.572194</td>\n",
       "    </tr>\n",
       "    <tr>\n",
       "      <td>145800</td>\n",
       "      <td>-0.419820</td>\n",
       "      <td>-1.155978</td>\n",
       "      <td>-2.092516</td>\n",
       "      <td>2.786750</td>\n",
       "      <td>0.736297</td>\n",
       "      <td>-0.167292</td>\n",
       "      <td>1.600027</td>\n",
       "      <td>-0.117427</td>\n",
       "      <td>-0.796954</td>\n",
       "      <td>-0.133950</td>\n",
       "      <td>...</td>\n",
       "      <td>0.533517</td>\n",
       "      <td>1.284645</td>\n",
       "      <td>0.516131</td>\n",
       "      <td>-0.602941</td>\n",
       "      <td>-0.305024</td>\n",
       "      <td>-0.021363</td>\n",
       "      <td>0.129096</td>\n",
       "      <td>1</td>\n",
       "      <td>1.483734</td>\n",
       "      <td>-0.029147</td>\n",
       "    </tr>\n",
       "    <tr>\n",
       "      <td>135718</td>\n",
       "      <td>-0.885254</td>\n",
       "      <td>1.790649</td>\n",
       "      <td>-0.945149</td>\n",
       "      <td>3.853433</td>\n",
       "      <td>-1.543510</td>\n",
       "      <td>0.188582</td>\n",
       "      <td>-2.988383</td>\n",
       "      <td>1.344059</td>\n",
       "      <td>-2.294535</td>\n",
       "      <td>-1.886176</td>\n",
       "      <td>...</td>\n",
       "      <td>0.550802</td>\n",
       "      <td>-0.034882</td>\n",
       "      <td>-0.567608</td>\n",
       "      <td>-0.528318</td>\n",
       "      <td>0.258782</td>\n",
       "      <td>0.506893</td>\n",
       "      <td>0.176736</td>\n",
       "      <td>1</td>\n",
       "      <td>-0.434879</td>\n",
       "      <td>-0.149728</td>\n",
       "    </tr>\n",
       "  </tbody>\n",
       "</table>\n",
       "<p>10 rows × 31 columns</p>\n",
       "</div>"
      ],
      "text/plain": [
       "               V1        V2         V3         V4         V5        V6  \\\n",
       "96789   -3.593476  0.781442  -1.822448   0.605761  -1.194656 -0.517195   \n",
       "274475  -0.956390  2.361594  -3.171195   1.970759   0.474761 -1.902598   \n",
       "219025   0.114965  0.766762  -0.494132   0.116772   0.868169 -0.477982   \n",
       "44223  -19.139733  9.286847 -20.134992   7.818673 -15.652208 -1.668348   \n",
       "88307   -1.599457  2.607720  -2.987193   3.064156  -2.497914 -0.541103   \n",
       "48094   -1.278138  0.716242  -1.143279   0.217805  -1.293890 -1.168952   \n",
       "4920    -2.303350  1.759247  -0.359745   2.330243  -0.821628 -0.075788   \n",
       "9035    -2.589617  7.016714 -13.705407  10.343228  -2.954461 -3.055116   \n",
       "145800  -0.419820 -1.155978  -2.092516   2.786750   0.736297 -0.167292   \n",
       "135718  -0.885254  1.790649  -0.945149   3.853433  -1.543510  0.188582   \n",
       "\n",
       "               V7        V8        V9        V10  ...       V22       V23  \\\n",
       "96789   -1.722523  0.128890  0.014963  -2.856117  ...  0.391249 -0.252875   \n",
       "274475  -0.055178  0.277831 -1.745854  -2.516628  ...  0.719400  0.122458   \n",
       "219025   0.438496  0.063073 -0.186207  -0.159325  ... -0.706865  0.131405   \n",
       "44223  -21.340478  0.641900 -8.550110 -16.649628  ...  0.520543 -0.760556   \n",
       "88307   -2.277786  1.268166 -1.997331  -3.834775  ...  0.184087 -0.089452   \n",
       "48094   -2.564182  0.204532 -1.611155  -1.250286  ...  0.470427 -0.126261   \n",
       "4920     0.562320 -0.399147 -0.238253  -1.525412  ... -0.932391  0.172726   \n",
       "9035    -9.301289  3.349573 -5.654212 -11.853867  ...  0.333998  0.287659   \n",
       "145800   1.600027 -0.117427 -0.796954  -0.133950  ...  0.533517  1.284645   \n",
       "135718  -2.988383  1.344059 -2.294535  -1.886176  ...  0.550802 -0.034882   \n",
       "\n",
       "             V24       V25       V26       V27       V28  Class  \\\n",
       "96789  -0.498042  0.010172  0.909929 -1.478767  0.722673      1   \n",
       "274475 -0.255650 -0.619259 -0.484280  0.683535  0.443299      1   \n",
       "219025  0.600742 -0.604264  0.262938  0.099145  0.010810      1   \n",
       "44223   0.662767 -0.948454  0.121796 -3.381843 -1.256524      1   \n",
       "88307  -0.506000 -0.062259 -0.052714  0.322854  0.135268      1   \n",
       "48094  -0.126644 -0.661908 -0.349793  0.454851  0.137843      1   \n",
       "4920   -0.087330 -0.156114 -0.542628  0.039566 -0.153029      1   \n",
       "9035   -1.186406 -0.690273  0.631704  1.934221  0.789687      1   \n",
       "145800  0.516131 -0.602941 -0.305024 -0.021363  0.129096      1   \n",
       "135718 -0.567608 -0.528318  0.258782  0.506893  0.176736      1   \n",
       "\n",
       "        scaled_amount  scaled_time  \n",
       "96789       -0.028714    -0.468989  \n",
       "274475      -0.295080     1.601203  \n",
       "219025      -0.448197     1.095238  \n",
       "44223        0.137332    -0.967137  \n",
       "88307        0.310729    -0.548743  \n",
       "48094       -0.359942    -0.933155  \n",
       "4920         0.569874    -1.740450  \n",
       "9035        -0.463289    -1.572194  \n",
       "145800       1.483734    -0.029147  \n",
       "135718      -0.434879    -0.149728  \n",
       "\n",
       "[10 rows x 31 columns]"
      ]
     },
     "execution_count": 119,
     "metadata": {},
     "output_type": "execute_result"
    }
   ],
   "source": [
    "scaled_df.head(10)"
   ]
  },
  {
   "cell_type": "markdown",
   "metadata": {},
   "source": [
    "# Correlation Matrix\n",
    "\n",
    "See if any features give a very strong influence to the fraud/valid transaction"
   ]
  },
  {
   "cell_type": "code",
   "execution_count": 122,
   "metadata": {},
   "outputs": [
    {
     "data": {
      "text/plain": [
       "<AxesSubplot:>"
      ]
     },
     "execution_count": 122,
     "metadata": {},
     "output_type": "execute_result"
    },
    {
     "data": {
      "image/png": "[encoded data removed]",
      "text/plain": [
       "<Figure size 432x288 with 2 Axes>"
      ]
     },
     "metadata": {
      "needs_background": "light"
     },
     "output_type": "display_data"
    }
   ],
   "source": [
    "corr = scaled_df.corr()\n",
    "sns.heatmap(corr)"
   ]
  },
  {
   "cell_type": "code",
   "execution_count": 137,
   "metadata": {},
   "outputs": [
    {
     "data": {
      "image/png": "[encoded data removed]",
      "text/plain": [
       "<Figure size 864x576 with 2 Axes>"
      ]
     },
     "metadata": {
      "needs_background": "light"
     },
     "output_type": "display_data"
    }
   ],
   "source": [
    "f, ax = plt.subplots(1, 1, figsize=(12, 8))\n",
    "\n",
    "corr = df.corr()\n",
    "sns.heatmap(corr, annot_kws={'size':20}, ax=ax)\n",
    "plt.show()"
   ]
  },
  {
   "cell_type": "code",
   "execution_count": 136,
   "metadata": {},
   "outputs": [
    {
     "data": {
      "image/png": "[encoded data removed]",
      "text/plain": [
       "<Figure size 864x576 with 2 Axes>"
      ]
     },
     "metadata": {
      "needs_background": "light"
     },
     "output_type": "display_data"
    }
   ],
   "source": [
    "f, ax = plt.subplots(1, 1, figsize=(12, 8))\n",
    "\n",
    "corr = scaled_df.corr()\n",
    "sns.heatmap(corr, annot_kws={'size':20}, ax=ax)\n",
    "plt.show()"
   ]
  },
  {
   "cell_type": "markdown",
   "metadata": {},
   "source": [
    "# Training the Model"
   ]
  },
  {
   "cell_type": "code",
   "execution_count": 156,
   "metadata": {},
   "outputs": [],
   "source": [
    "from sklearn.model_selection import train_test_split\n",
    "from sklearn.model_selection import cross_val_score\n",
    "from sklearn.linear_model import LogisticRegression\n",
    "\n",
    "X = scaled_df.drop(\"Class\", axis=1)\n",
    "y = scaled_df[\"Class\"]\n",
    "\n",
    "X_train, X_test, y_train, y_test = train_test_split(X, y, test_size=0.2)\n",
    "\n",
    "X_train = X_train.values\n",
    "X_test = X_test.values\n",
    "y_train = y_train.values\n",
    "y_test = y_test.values"
   ]
  },
  {
   "cell_type": "code",
   "execution_count": 171,
   "metadata": {},
   "outputs": [
    {
     "name": "stdout",
     "output_type": "stream",
     "text": [
      "Number of training set samples: 787\n",
      "Number of testing set samples: 197\n"
     ]
    }
   ],
   "source": [
    "print(\"Number of training set samples: {0}\".format(len(X_train)))\n",
    "print(\"Number of testing set samples: {0}\".format(len(X_test)))"
   ]
  },
  {
   "cell_type": "markdown",
   "metadata": {},
   "source": [
    "## LogisticRegression"
   ]
  },
  {
   "cell_type": "code",
   "execution_count": 168,
   "metadata": {
    "scrolled": true
   },
   "outputs": [
    {
     "name": "stdout",
     "output_type": "stream",
     "text": [
      "Accuracy: 0.94 (+/- 0.01)\n"
     ]
    }
   ],
   "source": [
    "classifier = LogisticRegression()\n",
    "classifier.fit(X_train, y_train) # X is the training sample, y is the ground-truth of the training sample\n",
    "training_score = cross_val_score(classifier, X_train, y_train, cv=5)\n",
    "\n",
    "print(\"Accuracy: %0.2f (+/- %0.2f)\" % (training_score.mean(), training_score.std() * 2))"
   ]
  },
  {
   "cell_type": "code",
   "execution_count": 163,
   "metadata": {},
   "outputs": [
    {
     "name": "stdout",
     "output_type": "stream",
     "text": [
      "0.9595959595959597\n"
     ]
    }
   ],
   "source": [
    "from sklearn.metrics import f1_score\n",
    "\n",
    "y_pred = classifier.predict(X_test)\n",
    "score = f1_score(y_pred, y_test)\n",
    "\n",
    "print(score)"
   ]
  },
  {
   "cell_type": "markdown",
   "metadata": {},
   "source": [
    "## Confusion Matrix"
   ]
  },
  {
   "cell_type": "code",
   "execution_count": 167,
   "metadata": {},
   "outputs": [
    {
     "data": {
      "image/png": "[encoded data removed]",
      "text/plain": [
       "<Figure size 432x288 with 2 Axes>"
      ]
     },
     "metadata": {
      "needs_background": "light"
     },
     "output_type": "display_data"
    }
   ],
   "source": [
    "from sklearn.metrics import plot_confusion_matrix\n",
    "\n",
    "plot_confusion_matrix(classifier, X_test, y_test)\n",
    "plt.show()"
   ]
  }
 ],
 "metadata": {
  "kernelspec": {
   "display_name": "Python 3",
   "language": "python",
   "name": "python3"
  },
  "language_info": {
   "codemirror_mode": {
    "name": "ipython",
    "version": 3
   },
   "file_extension": ".py",
   "mimetype": "text/x-python",
   "name": "python",
   "nbconvert_exporter": "python",
   "pygments_lexer": "ipython3",
   "version": "3.7.0"
  },
  "toc": {
   "base_numbering": 1,
   "nav_menu": {},
   "number_sections": true,
   "sideBar": true,
   "skip_h1_title": false,
   "title_cell": "Table of Contents",
   "title_sidebar": "Contents",
   "toc_cell": false,
   "toc_position": {},
   "toc_section_display": true,
   "toc_window_display": false
  }
 },
 "nbformat": 4,
 "nbformat_minor": 4
}
